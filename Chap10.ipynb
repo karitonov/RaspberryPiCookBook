{
 "cells": [
  {
   "cell_type": "markdown",
   "metadata": {},
   "source": [
    "# 10章 ハードウェアの制御"
   ]
  },
  {
   "cell_type": "markdown",
   "metadata": {},
   "source": [
    "## レシピ10.1 LEDを接続する"
   ]
  },
  {
   "cell_type": "markdown",
   "metadata": {},
   "source": [
    "| LEDの種類  | 抵抗  | 電流（mA）  |\n",
    "| --- | ---  | ---  |\n",
    "| 赤  | 472 Ω  | 3.5  |\n",
    "| 赤  | 1 kΩ  | 1.5  |\n",
    "| オレンジ、黄、緑  | 470 Ω  | 2  |\n",
    "| オレンジ、黄、緑  | 1 kΩ  | 1  |\n",
    "| 青、白  | 100 Ω | 3  |\n",
    "| 青、白  | 270 Ω | 1  |"
   ]
  },
  {
   "cell_type": "code",
   "execution_count": 11,
   "metadata": {},
   "outputs": [
    {
     "name": "stdout",
     "output_type": "stream",
     "text": [
      "I=6.99 mA\n",
      "I=3.30 mA\n",
      "I=7.02 mA\n",
      "I=3.30 mA\n",
      "I=33.00 mA\n",
      "I=12.22 mA\n"
     ]
    }
   ],
   "source": [
    "V=3.3\n",
    "R=[472, 1000, 470, 1000, 100, 270]\n",
    "for r in R:\n",
    "    I=V/r\n",
    "    print(f\"I={I*1000:.2f} mA\")"
   ]
  },
  {
   "cell_type": "markdown",
   "metadata": {},
   "source": [
    "```bash\n",
    ">>> from gpiozero import LED\n",
    ">>> led = LED(18)\n",
    ">>> led.on()\n",
    ">>> led.off()\n",
    "```"
   ]
  },
  {
   "cell_type": "markdown",
   "metadata": {},
   "source": [
    "## レシピ10.2 GPIOピンを安全な状態に保つ"
   ]
  },
  {
   "cell_type": "markdown",
   "metadata": {},
   "source": [
    "## レシピ10.3 LEDの明るさを制御する"
   ]
  },
  {
   "cell_type": "markdown",
   "metadata": {},
   "source": [
    "```python\n",
    "from gpiozero import PWMLED\n",
    "\n",
    "led = PWMLED(18)\n",
    "\n",
    "while True:\n",
    "    brightness_s = input(\"Enter Brightness (0.0 to 1.0):\")\n",
    "    brightness = float(brightness_s)\n",
    "    led.value = brightness\n",
    "```"
   ]
  },
  {
   "cell_type": "markdown",
   "metadata": {},
   "source": [
    "## レシピ10.4 トランジスターを使って大電力DCデバイスをスイッチする"
   ]
  },
  {
   "cell_type": "markdown",
   "metadata": {},
   "source": [
    "## レシピ10.5 リレーを使って大電力デバイスをスイッチする"
   ]
  },
  {
   "cell_type": "markdown",
   "metadata": {},
   "source": [
    "## レシピ10.6 高電圧ACデバイスを制御する"
   ]
  },
  {
   "cell_type": "markdown",
   "metadata": {},
   "source": [
    "## レシピ10.7 AndroidとBluetoothを使ってハードウェアを制御する"
   ]
  },
  {
   "cell_type": "markdown",
   "metadata": {},
   "source": [
    "```bash\n",
    "sudo pip3 install bluedot\n",
    "```"
   ]
  },
  {
   "cell_type": "markdown",
   "metadata": {},
   "source": [
    "```python\n",
    "from bluedot import BlueDot\n",
    "bd = BlueDot()\n",
    "while True:\n",
    "    bd.wait_for_press()\n",
    "    print(\"You pressed the blue dot!\")\n",
    "```"
   ]
  },
  {
   "cell_type": "markdown",
   "metadata": {},
   "source": [
    "## レシピ10.8 スイッチをオン・オフするユーザーインターフェイスを作る"
   ]
  },
  {
   "cell_type": "markdown",
   "metadata": {},
   "source": [
    "## レシピ10.9 LEDやモーターの電力をPWMで制御するユーザーインターフェイスを作る"
   ]
  },
  {
   "cell_type": "markdown",
   "metadata": {},
   "source": [
    "## レシピ10.10 RGB LEDの色を変化させる"
   ]
  },
  {
   "cell_type": "markdown",
   "metadata": {},
   "source": [
    "## レシピ10.11 アナログメーターをディスプレイとして使う"
   ]
  }
 ],
 "metadata": {
  "kernelspec": {
   "display_name": ".venv",
   "language": "python",
   "name": "python3"
  },
  "language_info": {
   "codemirror_mode": {
    "name": "ipython",
    "version": 3
   },
   "file_extension": ".py",
   "mimetype": "text/x-python",
   "name": "python",
   "nbconvert_exporter": "python",
   "pygments_lexer": "ipython3",
   "version": "3.10.11"
  }
 },
 "nbformat": 4,
 "nbformat_minor": 2
}
