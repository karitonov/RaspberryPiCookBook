{
 "cells": [
  {
   "cell_type": "markdown",
   "metadata": {},
   "source": [
    "# 18章 ArduinoとRaspberry Pi"
   ]
  },
  {
   "cell_type": "markdown",
   "metadata": {},
   "source": [
    "## レシピ18.1 Raspberry PiからArduinoをプログラムする"
   ]
  },
  {
   "cell_type": "markdown",
   "metadata": {},
   "source": [
    "```bash\n",
    "wget http://downloads.arduino.cc/arduino-1.8.5-linuxarm.tar.xz\n",
    "tar -x -f arduino-1.8.5-linuxarm.tar.xz \n",
    "cd arduino-1.8.5/\n",
    "./install.sh\n",
    "```"
   ]
  },
  {
   "cell_type": "markdown",
   "metadata": {},
   "source": [
    "## レシピ18.2 シリアルモニターを使ってArduinoと通信する"
   ]
  },
  {
   "cell_type": "markdown",
   "metadata": {},
   "source": [
    "## レシピ18.3 PyFirmataを設定してRaspberry PiからArduinoを制御する"
   ]
  },
  {
   "cell_type": "markdown",
   "metadata": {},
   "source": [
    "* Arduino IDE：「ファイル」→「スケッチ例」→「Firmate」→「StandardFirmata」"
   ]
  },
  {
   "cell_type": "markdown",
   "metadata": {},
   "source": [
    "```bash\n",
    "sudo pip3 install pyfirmata\n",
    "```"
   ]
  },
  {
   "cell_type": "markdown",
   "metadata": {},
   "source": [
    "## レシピ18.4 Rasberry PiからArduinoの デジタル出力を制御する"
   ]
  },
  {
   "cell_type": "markdown",
   "metadata": {},
   "source": [
    "## レシピ18.5 PyFirmataをTTLシリアル経由で使う"
   ]
  },
  {
   "cell_type": "markdown",
   "metadata": {},
   "source": [
    "## レシピ18.6 PyFirmataを使ってArduinoのデジタル入力を読み出す"
   ]
  },
  {
   "cell_type": "markdown",
   "metadata": {},
   "source": [
    "## レシピ18.7 PyFirmataを使ってArduinoのアナログ入力を読み出す"
   ]
  },
  {
   "cell_type": "markdown",
   "metadata": {},
   "source": [
    "## レシピ18.8 PyFirmataでアナログ出力（PWM）を使う"
   ]
  },
  {
   "cell_type": "markdown",
   "metadata": {},
   "source": [
    "## レシピ18.9 PyFirmataを使ってサーボを制御する"
   ]
  },
  {
   "cell_type": "markdown",
   "metadata": {},
   "source": [
    "## レシピ18.10 小型のArduinoをRaspberry Piと使う"
   ]
  },
  {
   "cell_type": "markdown",
   "metadata": {},
   "source": [
    "## レシピ18.11 小型のWiFi機能付きArduino互換ボード（ESP8266）を使う"
   ]
  }
 ],
 "metadata": {
  "language_info": {
   "name": "python"
  }
 },
 "nbformat": 4,
 "nbformat_minor": 2
}
