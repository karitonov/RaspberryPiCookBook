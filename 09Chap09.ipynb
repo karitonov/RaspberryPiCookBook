{
 "cells": [
  {
   "cell_type": "markdown",
   "metadata": {},
   "source": [
    "# 9章 ハードウェアの基本"
   ]
  },
  {
   "cell_type": "markdown",
   "metadata": {},
   "source": [
    "## レシピ9.1 GPIOコネクターのピン配置"
   ]
  },
  {
   "cell_type": "markdown",
   "metadata": {},
   "source": [
    "## レシピ9.2 Raspberry PiのGPIOを安全に使う"
   ]
  },
  {
   "cell_type": "markdown",
   "metadata": {},
   "source": [
    "## レシピ9.3 I2Cをセットアップする"
   ]
  },
  {
   "cell_type": "markdown",
   "metadata": {},
   "source": [
    "## レシピ9.4 I2Cツールを使う"
   ]
  },
  {
   "cell_type": "markdown",
   "metadata": {},
   "source": [
    "インストール\n",
    "\n",
    "```bash\n",
    "sudo apt-get install i2c-tools\n",
    "```\n",
    "\n",
    "実行\n",
    "\n",
    "```bash\n",
    "sudo i2cdetect -y 1\n",
    "```"
   ]
  },
  {
   "cell_type": "markdown",
   "metadata": {},
   "source": [
    "## レシピ9.5 SPIをセットアップする"
   ]
  },
  {
   "cell_type": "markdown",
   "metadata": {},
   "source": [
    "```bash\n",
    "$ ls /dev/*spi*\n",
    "/dev/spidev0.0  /dev/spidev0.1\n",
    "```"
   ]
  },
  {
   "cell_type": "markdown",
   "metadata": {},
   "source": [
    "## レシピ9.6 PySerialをインストールしてPythonからシリアルポートを使う"
   ]
  },
  {
   "cell_type": "markdown",
   "metadata": {},
   "source": [
    "```bash\n",
    "sudo apt-get install python-serial\n",
    "```"
   ]
  },
  {
   "cell_type": "markdown",
   "metadata": {},
   "source": [
    "## レシピ9.7 Minicomをインストールしてシリアルポートをテストする"
   ]
  },
  {
   "cell_type": "markdown",
   "metadata": {},
   "source": [
    "インストール\n",
    "\n",
    "```bash\n",
    "sudo apt-get install minicom\n",
    "```\n",
    "\n",
    "実行\n",
    "\n",
    "```bash\n",
    "minicom -b 9600 -o -D /dev/ttyS0\n",
    "```"
   ]
  },
  {
   "cell_type": "markdown",
   "metadata": {},
   "source": [
    "## レシピ9.8 ジャンパー線を使ってブレッドボードと接続する"
   ]
  },
  {
   "cell_type": "markdown",
   "metadata": {},
   "source": [
    "## レシピ9.9 Pi Cobblerを使ってブレッドボードと接続する"
   ]
  },
  {
   "cell_type": "markdown",
   "metadata": {},
   "source": [
    "## レシピ9.10 Raspberry Squidを使う"
   ]
  },
  {
   "cell_type": "markdown",
   "metadata": {},
   "source": [
    "## レシピ9.11 Raspberry Squid Buttonを使う"
   ]
  },
  {
   "cell_type": "markdown",
   "metadata": {},
   "source": [
    "## レシピ9.12 抵抗2本で5V信号を3.3Vに変換する"
   ]
  },
  {
   "cell_type": "markdown",
   "metadata": {},
   "source": [
    "## レシピ9.13 レベル変換モジュールを使って5V信号を3.3Vに変換する"
   ]
  },
  {
   "cell_type": "markdown",
   "metadata": {},
   "source": [
    "## レシピ9.14 電池からRaspberry Piの電源を供給する"
   ]
  },
  {
   "cell_type": "markdown",
   "metadata": {},
   "source": [
    "## レシピ9.15 リチウムイオン電池からRaspberry Piの電源を供給する"
   ]
  },
  {
   "cell_type": "markdown",
   "metadata": {},
   "source": [
    "## レシピ9.16 Sense HATを使う"
   ]
  },
  {
   "cell_type": "markdown",
   "metadata": {},
   "source": [
    "## レシピ9.17 Explorer HAT Proを使う"
   ]
  },
  {
   "cell_type": "markdown",
   "metadata": {},
   "source": [
    "## レシピ9.18 Pi Plateプロトタイピングボードを使う"
   ]
  },
  {
   "cell_type": "markdown",
   "metadata": {},
   "source": [
    "## レシピ9.19 HATを自作する"
   ]
  },
  {
   "cell_type": "markdown",
   "metadata": {},
   "source": [
    "## レシピ9.20 Pi ZeroとPi Zero W"
   ]
  }
 ],
 "metadata": {
  "language_info": {
   "name": "python"
  }
 },
 "nbformat": 4,
 "nbformat_minor": 2
}
