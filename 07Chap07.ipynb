{
 "cells": [
  {
   "cell_type": "markdown",
   "metadata": {},
   "source": [
    "# 7章 Pythonの高度な機能"
   ]
  },
  {
   "cell_type": "markdown",
   "metadata": {},
   "source": [
    "## レシピ7.1 数値をフォーマットする"
   ]
  },
  {
   "cell_type": "markdown",
   "metadata": {},
   "source": [
    "## レシピ7.2 日付と時間をフォーマットする"
   ]
  },
  {
   "cell_type": "markdown",
   "metadata": {},
   "source": [
    "## レシピ7.3 2つ以上の値を返す"
   ]
  },
  {
   "cell_type": "markdown",
   "metadata": {},
   "source": [
    "## レシピ7.4 クラスを定義する"
   ]
  },
  {
   "cell_type": "markdown",
   "metadata": {},
   "source": [
    "## レシピ7.5 メソッドを定義する"
   ]
  },
  {
   "cell_type": "markdown",
   "metadata": {},
   "source": [
    "## レシピ7.6 継承"
   ]
  },
  {
   "cell_type": "markdown",
   "metadata": {},
   "source": [
    "## レシピ7.7 ファイルへの書き込み"
   ]
  },
  {
   "cell_type": "markdown",
   "metadata": {},
   "source": [
    "## レシピ7.8 ファイルの読み出し"
   ]
  },
  {
   "cell_type": "markdown",
   "metadata": {},
   "source": [
    "## レシピ7.9 ピクリング"
   ]
  },
  {
   "cell_type": "markdown",
   "metadata": {},
   "source": [
    "## レシピ7.10 例外の取り扱い"
   ]
  },
  {
   "cell_type": "markdown",
   "metadata": {},
   "source": [
    "## レシピ7.11 モジュールを使う"
   ]
  },
  {
   "cell_type": "markdown",
   "metadata": {},
   "source": [
    "## レシピ7.12 乱数"
   ]
  },
  {
   "cell_type": "markdown",
   "metadata": {},
   "source": [
    "## レシピ7.13 PythonからHTTPリクエストを送る"
   ]
  },
  {
   "cell_type": "code",
   "execution_count": 3,
   "metadata": {},
   "outputs": [
    {
     "name": "stdout",
     "output_type": "stream",
     "text": [
      "b'\\xef\\xbb\\xbfThe Project Gutenberg eBook of The Adventures of Sherlock Holmes\\r\\n    \\r\\nThis ebook is for the use'\n"
     ]
    }
   ],
   "source": [
    "import urllib.request\n",
    "contents = urllib.request.urlopen(\"http://www.gutenberg.org/cache/epub/1661/pg1661.txt\").read()\n",
    "print(contents[:100])"
   ]
  },
  {
   "cell_type": "markdown",
   "metadata": {},
   "source": [
    "## レシピ7.14 コマンドラインから引数を渡してPythonプログラムを実行する"
   ]
  },
  {
   "cell_type": "code",
   "execution_count": 4,
   "metadata": {},
   "outputs": [
    {
     "name": "stdout",
     "output_type": "stream",
     "text": [
      "arg: 0 d:\\Programming\\IoT\\RaspberryPiCookBook\\.venv\\lib\\site-packages\\ipykernel_launcher.py \n",
      "arg: 1 --ip=127.0.0.1 \n",
      "arg: 2 --stdin=9008 \n",
      "arg: 3 --control=9006 \n",
      "arg: 4 --hb=9005 \n",
      "arg: 5 --Session.signature_scheme=\"hmac-sha256\" \n",
      "arg: 6 --Session.key=b\"ef81af06-2be4-48ae-bfa9-cc6ee19c03ba\" \n",
      "arg: 7 --shell=9007 \n",
      "arg: 8 --transport=\"tcp\" \n",
      "arg: 9 --iopub=9009 \n",
      "arg: 10 --f=c:\\Users\\nishimura\\AppData\\Roaming\\jupyter\\runtime\\kernel-v2-20344B3kcYE4NLmQ1.json \n"
     ]
    }
   ],
   "source": [
    "import sys\n",
    "\n",
    "for (i, value) in enumerate(sys.argv):\n",
    "    print(\"arg: %d %s \" % (i, value))\n"
   ]
  },
  {
   "cell_type": "markdown",
   "metadata": {},
   "source": [
    "## レシピ7.15 PythonからLinuxコマンドを実行する"
   ]
  },
  {
   "cell_type": "code",
   "execution_count": 9,
   "metadata": {},
   "outputs": [
    {
     "data": {
      "text/plain": [
       "0"
      ]
     },
     "execution_count": 9,
     "metadata": {},
     "output_type": "execute_result"
    }
   ],
   "source": [
    "import os\n",
    "os.system(\"echo \\\"test\\\" > test.txt\")"
   ]
  },
  {
   "cell_type": "code",
   "execution_count": 13,
   "metadata": {},
   "outputs": [
    {
     "name": "stdout",
     "output_type": "stream",
     "text": [
      "b'\\r\\nWindows IP Configuration\\r\\n\\r\\n\\r\\nEthernet adapter \\x83C\\x81[\\x83T\\x83l\\x83b\\x83g 2:\\r\\n\\r\\n   Media State . . . . . . . . . . . : Media disconnected\\r\\n   Connection-specific DNS Suffix  . : \\r\\n\\r\\nEthernet adapter VirtualBox Host-Only Network:\\r\\n\\r\\n   Connection-specific DNS Suffix  . : \\r\\n   Link-local IPv6 Address . . . . . : fe80::48f9:f73d:46f2:5bf2%18\\r\\n   IPv4 Address. . . . . . . . . . . : 192.168.56.1\\r\\n   Subnet Mask . . . . . . . . . . . : 255.255.255.0\\r\\n   Default Gateway . . . . . . . . . : \\r\\n\\r\\nEthernet adapter VirtualBox Host-Only Network #2:\\r\\n\\r\\n   Connection-specific DNS Suffix  . : \\r\\n   Link-local IPv6 Address . . . . . : fe80::6f9e:1a29:6ac4:3165%16\\r\\n   IPv4 Address. . . . . . . . . . . : 192.168.33.1\\r\\n   Subnet Mask . . . . . . . . . . . : 255.255.255.0\\r\\n   Default Gateway . . . . . . . . . : \\r\\n\\r\\nWireless LAN adapter \\x83\\x8d\\x81[\\x83J\\x83\\x8b \\x83G\\x83\\x8a\\x83A\\x90\\xda\\x91\\xb1* 1:\\r\\n\\r\\n   Media State . . . . . . . . . . . : Media disconnected\\r\\n   Connection-specific DNS Suffix  . : \\r\\n\\r\\nWireless LAN adapter \\x83\\x8d\\x81[\\x83J\\x83\\x8b \\x83G\\x83\\x8a\\x83A\\x90\\xda\\x91\\xb1* 2:\\r\\n\\r\\n   Media State . . . . . . . . . . . : Media disconnected\\r\\n   Connection-specific DNS Suffix  . : \\r\\n\\r\\nEthernet adapter VMware Network Adapter VMnet1:\\r\\n\\r\\n   Connection-specific DNS Suffix  . : \\r\\n   Link-local IPv6 Address . . . . . : fe80::e00b:7623:6f80:2534%2\\r\\n   IPv4 Address. . . . . . . . . . . : 192.168.40.1\\r\\n   Subnet Mask . . . . . . . . . . . : 255.255.255.0\\r\\n   Default Gateway . . . . . . . . . : \\r\\n\\r\\nEthernet adapter VMware Network Adapter VMnet8:\\r\\n\\r\\n   Connection-specific DNS Suffix  . : \\r\\n   Link-local IPv6 Address . . . . . : fe80::5c32:267d:3dab:e9fe%14\\r\\n   IPv4 Address. . . . . . . . . . . : 192.168.253.1\\r\\n   Subnet Mask . . . . . . . . . . . : 255.255.255.0\\r\\n   Default Gateway . . . . . . . . . : \\r\\n\\r\\nWireless LAN adapter Wi-Fi:\\r\\n\\r\\n   Connection-specific DNS Suffix  . : \\r\\n   IPv6 Address. . . . . . . . . . . : 2409:11:c740:200:ae91:29f3:ad40:f3d3\\r\\n   Temporary IPv6 Address. . . . . . : 2409:11:c740:200:f082:d34:36a6:da34\\r\\n   Link-local IPv6 Address . . . . . : fe80::7c31:96cf:7e61:963c%10\\r\\n   IPv4 Address. . . . . . . . . . . : 192.168.0.200\\r\\n   Subnet Mask . . . . . . . . . . . : 255.255.255.0\\r\\n   Default Gateway . . . . . . . . . : fe80::7a8c:b5ff:fe86:84fc%10\\r\\n                                       192.168.0.1\\r\\n\\r\\nEthernet adapter Bluetooth \\x83l\\x83b\\x83g\\x83\\x8f\\x81[\\x83N\\x90\\xda\\x91\\xb1:\\r\\n\\r\\n   Media State . . . . . . . . . . . : Media disconnected\\r\\n   Connection-specific DNS Suffix  . : \\r\\n\\r\\nTunnel adapter Teredo Tunneling Pseudo-Interface:\\r\\n\\r\\n   Connection-specific DNS Suffix  . : \\r\\n   IPv6 Address. . . . . . . . . . . : 2001:0:2851:b9f0:8cd:3daa:264d:ebf6\\r\\n   Link-local IPv6 Address . . . . . : fe80::8cd:3daa:264d:ebf6%19\\r\\n   Default Gateway . . . . . . . . . : \\r\\n'\n"
     ]
    }
   ],
   "source": [
    "import subprocess\n",
    "ip = subprocess.check_output([\"ipconfig\"])\n",
    "print(ip)"
   ]
  },
  {
   "cell_type": "markdown",
   "metadata": {},
   "source": [
    "## レシピ7.16 Pythonから電子メールを送る"
   ]
  },
  {
   "cell_type": "markdown",
   "metadata": {},
   "source": [
    "## レシピ7.17 Pythonでシンプルなウェブサーバーを作る"
   ]
  },
  {
   "cell_type": "markdown",
   "metadata": {},
   "source": [
    "## レシピ7.18 Pythonで何もしない"
   ]
  },
  {
   "cell_type": "markdown",
   "metadata": {},
   "source": [
    "## レシピ7.19 同時に複数の処理を行う"
   ]
  },
  {
   "cell_type": "code",
   "execution_count": 14,
   "metadata": {},
   "outputs": [
    {
     "name": "stdout",
     "output_type": "stream",
     "text": [
      "0\n",
      "1\n",
      "BOO !!\n",
      "2\n",
      "3\n",
      "4\n",
      "BOO !!\n",
      "5\n",
      "6\n",
      "7\n",
      "BOO !!\n",
      "8\n",
      "9\n",
      "10\n",
      "BOO !!\n",
      "11\n",
      "12\n",
      "13\n",
      "BOO !!\n",
      "14\n",
      "BOO !!\n",
      "15\n",
      "16\n",
      "17\n",
      "BOO !!\n",
      "18\n",
      "19\n"
     ]
    },
    {
     "name": "stdout",
     "output_type": "stream",
     "text": [
      "BOO !!\n",
      "BOO !!\n",
      "BOO !!\n",
      "BOO !!\n",
      "BOO !!\n",
      "BOO !!\n",
      "BOO !!\n",
      "BOO !!\n",
      "BOO !!\n",
      "BOO !!\n",
      "BOO !!\n",
      "BOO !!\n",
      "BOO !!\n",
      "BOO !!\n",
      "BOO !!\n",
      "BOO !!\n",
      "BOO !!\n",
      "BOO !!\n",
      "BOO !!\n",
      "BOO !!\n",
      "BOO !!\n",
      "BOO !!\n",
      "BOO !!\n",
      "BOO !!\n",
      "BOO !!\n",
      "BOO !!\n",
      "BOO !!\n",
      "BOO !!\n",
      "BOO !!\n",
      "BOO !!\n",
      "BOO !!\n",
      "BOO !!\n",
      "BOO !!\n",
      "BOO !!\n",
      "BOO !!\n",
      "BOO !!\n"
     ]
    }
   ],
   "source": [
    "import threading, time, random\n",
    "\n",
    "def annoy(message):\n",
    "    while True:\n",
    "        time.sleep(random.randint(1, 3))\n",
    "        print(message)\n",
    "\n",
    "t = threading.Thread(target=annoy, args=('BOO !!',))\n",
    "t.start()\n",
    "\n",
    "x = 0\n",
    "for i in range(20):\n",
    "    print(x)\n",
    "    x += 1\n",
    "    time.sleep(1)\n"
   ]
  },
  {
   "cell_type": "markdown",
   "metadata": {},
   "source": [
    "## レシピ7.20 Minecraft Pi EditionでPythonを使う"
   ]
  },
  {
   "cell_type": "markdown",
   "metadata": {},
   "source": [
    "## レシピ7.21 JSONを構文解析する"
   ]
  },
  {
   "cell_type": "markdown",
   "metadata": {},
   "source": [
    "### ch_07_parse_json.py"
   ]
  },
  {
   "cell_type": "code",
   "execution_count": 1,
   "metadata": {},
   "outputs": [
    {
     "name": "stdout",
     "output_type": "stream",
     "text": [
      "Pi Cookbook\n"
     ]
    }
   ],
   "source": [
    "import json\n",
    "\n",
    "s = '{\"books\" : [{\"title\" : \"Programnming Arduino\", \"price\" : 10.95}, {\"title\" : \"Pi Cookbook\", \"price\" : 19.95}]}'\n",
    "j = json.loads(s)\n",
    "print(j['books'][1]['title'])\n"
   ]
  },
  {
   "cell_type": "markdown",
   "metadata": {},
   "source": [
    "## レシピ7.22 ユーザーインターフェイスを作成する"
   ]
  },
  {
   "cell_type": "markdown",
   "metadata": {},
   "source": [
    "## レシピ7.23 正規表現を利用してテキスト中のパターンを検索する"
   ]
  },
  {
   "cell_type": "markdown",
   "metadata": {},
   "source": [
    "## レシピ7.24 正規表現を利用してデータ入力を検証する"
   ]
  },
  {
   "cell_type": "markdown",
   "metadata": {},
   "source": [
    "## レシピ7.25 正規表現を利用してウェブスクレイピングする"
   ]
  }
 ],
 "metadata": {
  "kernelspec": {
   "display_name": ".venv",
   "language": "python",
   "name": "python3"
  },
  "language_info": {
   "codemirror_mode": {
    "name": "ipython",
    "version": 3
   },
   "file_extension": ".py",
   "mimetype": "text/x-python",
   "name": "python",
   "nbconvert_exporter": "python",
   "pygments_lexer": "ipython3",
   "version": "3.10.11"
  }
 },
 "nbformat": 4,
 "nbformat_minor": 2
}
