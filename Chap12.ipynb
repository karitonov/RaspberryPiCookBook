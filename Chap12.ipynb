{
 "cells": [
  {
   "cell_type": "markdown",
   "metadata": {},
   "source": [
    "# 12章 デジタル入力"
   ]
  },
  {
   "cell_type": "markdown",
   "metadata": {},
   "source": [
    "## レシピ12.1 押しボタンスイッチを接続する"
   ]
  },
  {
   "cell_type": "markdown",
   "metadata": {},
   "source": [
    "## レシピ12.2 押しボタンスイッチで状態を切り替える"
   ]
  },
  {
   "cell_type": "markdown",
   "metadata": {},
   "source": [
    "## レシピ12.3 2ポジションのトグルスイッチやスライドスイッチを使う"
   ]
  },
  {
   "cell_type": "markdown",
   "metadata": {},
   "source": [
    "## レシピ12.4 3ポジションのトグルスイッチやスライドスイッチを使う"
   ]
  },
  {
   "cell_type": "markdown",
   "metadata": {},
   "source": [
    "## レシピ12.5 ボタンを押したときのチャタリングを除去したい"
   ]
  },
  {
   "cell_type": "markdown",
   "metadata": {},
   "source": [
    "## レシピ12.6 外部プルアップ抵抗を使う"
   ]
  },
  {
   "cell_type": "markdown",
   "metadata": {},
   "source": [
    "## レシピ12.7 ロータリー（クワドラチャ）エンコーダーを使う"
   ]
  },
  {
   "cell_type": "markdown",
   "metadata": {},
   "source": [
    "## レシピ12.8 キーパッド"
   ]
  },
  {
   "cell_type": "markdown",
   "metadata": {},
   "source": [
    "## レシピ12.9 動きを検出する"
   ]
  },
  {
   "cell_type": "markdown",
   "metadata": {},
   "source": [
    "## レシピ12.10 Raspberry PiにGPSを接続する"
   ]
  },
  {
   "cell_type": "markdown",
   "metadata": {},
   "source": [
    "## レシピ12.11 押されたキーを横取りする"
   ]
  },
  {
   "cell_type": "markdown",
   "metadata": {},
   "source": [
    "### ch_12_keys_pygame.py"
   ]
  },
  {
   "cell_type": "code",
   "execution_count": 4,
   "metadata": {},
   "outputs": [
    {
     "name": "stdout",
     "output_type": "stream",
     "text": [
      "import pygame\n",
      "import sys\n",
      "from pygame.locals import *\n",
      "\n",
      "pygame.init()\n",
      "screen = pygame.display.set_mode((640, 480))\n",
      "pygame.mouse.set_visible(0)\n",
      "\n",
      "while True:\n",
      "    for event in pygame.event.get():\n",
      "        if event.type == QUIT:\n",
      "            sys.exit()\n",
      "        if event.type == KEYDOWN:\n",
      "            print(\"Code: \" + str(event.key) + \" Char: \" + chr(event.key))\n"
     ]
    }
   ],
   "source": [
    "!type raspberrypi_cookbook_ed3\\python\\ch_12_keys_pygame.py"
   ]
  },
  {
   "cell_type": "code",
   "execution_count": 6,
   "metadata": {},
   "outputs": [
    {
     "name": "stdout",
     "output_type": "stream",
     "text": [
      "Code: 97 Char: a\n",
      "Code: 98 Char: b\n",
      "Code: 99 Char: c\n",
      "Code: 100 Char: d\n",
      "Code: 120 Char: x\n",
      "Code: 27 Char: \u001b\n"
     ]
    },
    {
     "ename": "SystemExit",
     "evalue": "",
     "output_type": "error",
     "traceback": [
      "An exception has occurred, use %tb to see the full traceback.\n",
      "\u001b[1;31mSystemExit\u001b[0m\n"
     ]
    },
    {
     "ename": "",
     "evalue": "",
     "output_type": "error",
     "traceback": [
      "\u001b[1;31m現在のセルまたは前のセルでコードを実行中に、カーネルがクラッシュしました。エラーの原因を特定するには、セル内のコードを確認してください。詳細については、<a href='https://aka.ms/vscodeJupyterKernelCrash'>こちら</a> をクリックしてください。さらなる詳細については、Jupyter [log] (command:jupyter.viewOutput) を参照してください。"
     ]
    }
   ],
   "source": [
    "import pygame\n",
    "import sys\n",
    "from pygame.locals import *\n",
    "\n",
    "pygame.init()\n",
    "screen = pygame.display.set_mode((640, 480))\n",
    "pygame.mouse.set_visible(0)\n",
    "\n",
    "while True:\n",
    "    for event in pygame.event.get():\n",
    "        if event.type == KEYDOWN:\n",
    "            print(\"Code: \" + str(event.key) + \" Char: \" + chr(event.key))\n",
    "        if event.type == KEYDOWN and event.key == K_ESCAPE:\n",
    "            sys.exit()"
   ]
  },
  {
   "cell_type": "markdown",
   "metadata": {},
   "source": [
    "## レシピ12.12 マウスの動きを横取りする"
   ]
  },
  {
   "cell_type": "markdown",
   "metadata": {},
   "source": [
    "### ch_12_mouse_pygame.py"
   ]
  },
  {
   "cell_type": "code",
   "execution_count": 2,
   "metadata": {},
   "outputs": [
    {
     "name": "stdout",
     "output_type": "stream",
     "text": [
      "import pygame\n",
      "import sys\n",
      "from pygame.locals import *\n",
      "\n",
      "pygame.init()\n",
      "screen = pygame.display.set_mode((640, 480))\n",
      "pygame.mouse.set_visible(0)\n",
      "\n",
      "while True:\n",
      "    for event in pygame.event.get():\n",
      "        if event.type == QUIT:\n",
      "            sys.exit()\n",
      "        if event.type == MOUSEMOTION:\n",
      "            print(\"Mouse: (%d, %d)\" % event.pos)\n"
     ]
    }
   ],
   "source": [
    "!type raspberrypi_cookbook_ed3\\python\\ch_12_mouse_pygame.py"
   ]
  },
  {
   "cell_type": "code",
   "execution_count": 3,
   "metadata": {},
   "outputs": [
    {
     "name": "stdout",
     "output_type": "stream",
     "text": [
      "Mouse: (526, 473)\n",
      "Mouse: (508, 458)\n",
      "Mouse: (485, 439)\n",
      "Mouse: (468, 425)\n",
      "Mouse: (445, 407)\n",
      "Mouse: (422, 389)\n",
      "Mouse: (402, 372)\n",
      "Mouse: (385, 358)\n",
      "Mouse: (361, 338)\n",
      "Mouse: (346, 325)\n",
      "Mouse: (324, 305)\n",
      "Mouse: (307, 292)\n",
      "Mouse: (294, 283)\n",
      "Mouse: (279, 271)\n",
      "Mouse: (267, 263)\n",
      "Mouse: (257, 256)\n",
      "Mouse: (249, 249)\n",
      "Mouse: (244, 244)\n",
      "Mouse: (238, 238)\n",
      "Mouse: (234, 232)\n",
      "Mouse: (231, 228)\n",
      "Mouse: (229, 223)\n",
      "Mouse: (227, 218)\n",
      "Mouse: (226, 215)\n",
      "Mouse: (226, 213)\n",
      "Mouse: (226, 211)\n",
      "Mouse: (226, 209)\n",
      "Mouse: (226, 207)\n",
      "Mouse: (227, 206)\n",
      "Mouse: (228, 204)\n",
      "Mouse: (230, 203)\n",
      "Mouse: (232, 201)\n",
      "Mouse: (234, 200)\n",
      "Mouse: (237, 198)\n",
      "Mouse: (239, 197)\n",
      "Mouse: (242, 195)\n",
      "Mouse: (246, 194)\n",
      "Mouse: (250, 191)\n",
      "Mouse: (254, 189)\n",
      "Mouse: (257, 187)\n",
      "Mouse: (261, 186)\n",
      "Mouse: (265, 185)\n",
      "Mouse: (270, 183)\n",
      "Mouse: (275, 183)\n",
      "Mouse: (280, 182)\n",
      "Mouse: (286, 182)\n",
      "Mouse: (292, 182)\n",
      "Mouse: (298, 182)\n",
      "Mouse: (304, 182)\n",
      "Mouse: (309, 182)\n",
      "Mouse: (314, 182)\n",
      "Mouse: (317, 182)\n",
      "Mouse: (321, 183)\n",
      "Mouse: (325, 185)\n",
      "Mouse: (328, 187)\n",
      "Mouse: (332, 190)\n",
      "Mouse: (337, 195)\n",
      "Mouse: (343, 199)\n",
      "Mouse: (347, 204)\n",
      "Mouse: (351, 208)\n",
      "Mouse: (354, 212)\n",
      "Mouse: (357, 216)\n",
      "Mouse: (358, 218)\n",
      "Mouse: (359, 219)\n",
      "Mouse: (359, 220)\n",
      "Mouse: (359, 221)\n",
      "Mouse: (360, 222)\n",
      "Mouse: (360, 224)\n",
      "Mouse: (360, 225)\n",
      "Mouse: (360, 226)\n",
      "Mouse: (360, 228)\n",
      "Mouse: (360, 229)\n",
      "Mouse: (360, 232)\n",
      "Mouse: (359, 234)\n",
      "Mouse: (358, 237)\n",
      "Mouse: (357, 240)\n",
      "Mouse: (356, 243)\n",
      "Mouse: (355, 247)\n",
      "Mouse: (353, 250)\n",
      "Mouse: (351, 252)\n",
      "Mouse: (349, 256)\n",
      "Mouse: (347, 259)\n",
      "Mouse: (345, 262)\n",
      "Mouse: (342, 264)\n",
      "Mouse: (339, 267)\n",
      "Mouse: (336, 270)\n",
      "Mouse: (332, 273)\n",
      "Mouse: (328, 275)\n",
      "Mouse: (325, 276)\n",
      "Mouse: (321, 278)\n",
      "Mouse: (317, 279)\n",
      "Mouse: (312, 281)\n",
      "Mouse: (308, 282)\n",
      "Mouse: (303, 283)\n",
      "Mouse: (297, 283)\n",
      "Mouse: (292, 284)\n",
      "Mouse: (288, 284)\n",
      "Mouse: (284, 284)\n",
      "Mouse: (279, 284)\n",
      "Mouse: (276, 284)\n",
      "Mouse: (272, 284)\n",
      "Mouse: (267, 283)\n",
      "Mouse: (263, 282)\n",
      "Mouse: (258, 281)\n",
      "Mouse: (253, 279)\n",
      "Mouse: (248, 277)\n",
      "Mouse: (244, 276)\n",
      "Mouse: (241, 274)\n",
      "Mouse: (237, 271)\n",
      "Mouse: (233, 269)\n",
      "Mouse: (230, 266)\n",
      "Mouse: (227, 263)\n",
      "Mouse: (223, 260)\n",
      "Mouse: (220, 256)\n",
      "Mouse: (216, 252)\n",
      "Mouse: (213, 248)\n",
      "Mouse: (210, 244)\n",
      "Mouse: (206, 240)\n",
      "Mouse: (203, 236)\n",
      "Mouse: (200, 232)\n",
      "Mouse: (197, 227)\n",
      "Mouse: (194, 223)\n",
      "Mouse: (191, 219)\n",
      "Mouse: (190, 216)\n",
      "Mouse: (187, 212)\n",
      "Mouse: (184, 205)\n",
      "Mouse: (182, 199)\n",
      "Mouse: (180, 193)\n",
      "Mouse: (178, 188)\n",
      "Mouse: (176, 184)\n",
      "Mouse: (174, 181)\n",
      "Mouse: (173, 176)\n",
      "Mouse: (171, 171)\n",
      "Mouse: (168, 167)\n",
      "Mouse: (167, 163)\n",
      "Mouse: (164, 158)\n",
      "Mouse: (162, 154)\n",
      "Mouse: (161, 151)\n",
      "Mouse: (159, 147)\n",
      "Mouse: (157, 144)\n",
      "Mouse: (156, 140)\n",
      "Mouse: (155, 138)\n",
      "Mouse: (154, 134)\n",
      "Mouse: (153, 131)\n",
      "Mouse: (151, 127)\n",
      "Mouse: (150, 125)\n",
      "Mouse: (148, 122)\n",
      "Mouse: (146, 119)\n",
      "Mouse: (144, 115)\n",
      "Mouse: (143, 112)\n",
      "Mouse: (142, 109)\n",
      "Mouse: (141, 106)\n",
      "Mouse: (140, 104)\n",
      "Mouse: (140, 103)\n",
      "Mouse: (140, 102)\n",
      "Mouse: (140, 100)\n",
      "Mouse: (140, 99)\n",
      "Mouse: (140, 97)\n",
      "Mouse: (140, 95)\n",
      "Mouse: (140, 93)\n",
      "Mouse: (142, 90)\n",
      "Mouse: (143, 88)\n",
      "Mouse: (145, 86)\n",
      "Mouse: (147, 83)\n",
      "Mouse: (150, 80)\n",
      "Mouse: (153, 77)\n",
      "Mouse: (159, 71)\n",
      "Mouse: (162, 68)\n",
      "Mouse: (167, 64)\n",
      "Mouse: (175, 59)\n",
      "Mouse: (184, 54)\n",
      "Mouse: (192, 49)\n",
      "Mouse: (198, 45)\n",
      "Mouse: (208, 41)\n",
      "Mouse: (219, 35)\n",
      "Mouse: (226, 32)\n",
      "Mouse: (236, 26)\n",
      "Mouse: (246, 21)\n",
      "Mouse: (255, 17)\n",
      "Mouse: (262, 14)\n",
      "Mouse: (270, 10)\n",
      "Mouse: (280, 6)\n",
      "Mouse: (293, 1)\n",
      "Mouse: (306, 0)\n"
     ]
    },
    {
     "ename": "SystemExit",
     "evalue": "",
     "output_type": "error",
     "traceback": [
      "An exception has occurred, use %tb to see the full traceback.\n",
      "\u001b[1;31mSystemExit\u001b[0m\n"
     ]
    },
    {
     "name": "stderr",
     "output_type": "stream",
     "text": [
      "d:\\Programming\\IoT\\RaspberryPiCookBook\\.venv\\lib\\site-packages\\IPython\\core\\interactiveshell.py:3556: UserWarning: To exit: use 'exit', 'quit', or Ctrl-D.\n",
      "  warn(\"To exit: use 'exit', 'quit', or Ctrl-D.\", stacklevel=1)\n"
     ]
    }
   ],
   "source": [
    "import pygame\n",
    "import sys\n",
    "from pygame.locals import *\n",
    "\n",
    "pygame.init()\n",
    "screen = pygame.display.set_mode((640, 480))\n",
    "pygame.mouse.set_visible(0)\n",
    "\n",
    "while True:\n",
    "    for event in pygame.event.get():\n",
    "        if event.type == QUIT:\n",
    "            sys.exit()\n",
    "        if event.type == MOUSEMOTION:\n",
    "            print(\"Mouse: (%d, %d)\" % event.pos)"
   ]
  },
  {
   "cell_type": "markdown",
   "metadata": {},
   "source": [
    "## レシピ12.13 リアルタイムクロックモジュールを使う"
   ]
  },
  {
   "cell_type": "markdown",
   "metadata": {},
   "source": [
    "## レシピ12.14 Raspberry Piにリセットボタンを追加する"
   ]
  }
 ],
 "metadata": {
  "kernelspec": {
   "display_name": ".venv",
   "language": "python",
   "name": "python3"
  },
  "language_info": {
   "codemirror_mode": {
    "name": "ipython",
    "version": 3
   },
   "file_extension": ".py",
   "mimetype": "text/x-python",
   "name": "python",
   "nbconvert_exporter": "python",
   "pygments_lexer": "ipython3",
   "version": "3.10.11"
  }
 },
 "nbformat": 4,
 "nbformat_minor": 2
}
