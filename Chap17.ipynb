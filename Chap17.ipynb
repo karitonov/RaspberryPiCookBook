{
 "cells": [
  {
   "cell_type": "markdown",
   "metadata": {},
   "source": [
    "# 17章 ホームオートメーション"
   ]
  },
  {
   "cell_type": "markdown",
   "metadata": {},
   "source": [
    "## レシピ17.1 Mosquittoを使ってRaspberry Piをメッセージブローカーに仕立てる"
   ]
  },
  {
   "cell_type": "markdown",
   "metadata": {},
   "source": [
    "### インストール"
   ]
  },
  {
   "cell_type": "markdown",
   "metadata": {},
   "source": [
    "```bash\n",
    "sudo apt install mosquitto mosquitto-clients\n",
    "sudo systemctl enable mosquitto.service\n",
    "```"
   ]
  },
  {
   "cell_type": "markdown",
   "metadata": {},
   "source": [
    "### 確認"
   ]
  },
  {
   "cell_type": "markdown",
   "metadata": {},
   "source": [
    "```bash\n",
    "$ mosquitto -v\n",
    "1700279693: mosquitto version 1.5.7 starting\n",
    "1700279693: Using default config.\n",
    "1700279693: Opening ipv4 listen socket on port 1883.\n",
    "1700279693: Error: Address already in use\n",
    "```"
   ]
  },
  {
   "cell_type": "markdown",
   "metadata": {},
   "source": [
    "### サブスクライバー"
   ]
  },
  {
   "cell_type": "markdown",
   "metadata": {},
   "source": [
    "```bash\n",
    "$ mosquitto_sub -d -t pi_mqtt\n",
    "Client mosqsub|3414-raspberryp sending CONNECT\n",
    "Client mosqsub|3414-raspberryp received CONNACK (0)\n",
    "Client mosqsub|3414-raspberryp sending SUBSCRIBE (Mid: 1, Topic: pi_mqtt, QoS: 0)\n",
    "Client mosqsub|3414-raspberryp received SUBACK\n",
    "Subscribed (mid: 1): 0\n",
    "```"
   ]
  },
  {
   "cell_type": "markdown",
   "metadata": {},
   "source": [
    "### パブリッシャー"
   ]
  },
  {
   "cell_type": "markdown",
   "metadata": {},
   "source": [
    "```bash\n",
    "$ mosquitto_pub -d -t pi_mqtt -m \"publishing_hello\"\n",
    "Client mosqpub|3757-raspberryp sending CONNECT\n",
    "Client mosqpub|3757-raspberryp received CONNACK (0)\n",
    "Client mosqpub|3757-raspberryp sending PUBLISH (d0, q0, r0, m1, 'pi_mqtt', ... (16 bytes))\n",
    "Client mosqpub|3757-raspberryp sending DISCONNECT\n",
    "```"
   ]
  },
  {
   "cell_type": "markdown",
   "metadata": {},
   "source": [
    "## レシピ17.2 Node-REDとMQTTサーバーを組み合わせて使う"
   ]
  },
  {
   "cell_type": "markdown",
   "metadata": {},
   "source": [
    "```bash\n",
    "$ mosquitto_pub -d -t kitchen_lights -m 0\n",
    "Client mosqpub|6790-raspberryp sending CONNECT\n",
    "Client mosqpub|6790-raspberryp received CONNACK (0)\n",
    "Client mosqpub|6790-raspberryp sending PUBLISH (d0, q0, r0, m1, 'kitchen_lights', ... (1 bytes))\n",
    "Client mosqpub|6790-raspberryp sending DISCONNECT\n",
    "```"
   ]
  },
  {
   "cell_type": "markdown",
   "metadata": {},
   "source": [
    "## レシピ17.3 Sonoff WiFiスマートスイッチのファームウェアをMQTT用に書き換える"
   ]
  },
  {
   "cell_type": "markdown",
   "metadata": {},
   "source": [
    "## レシピ17.4 Sonoff WiFiスマートスイッチを設定する"
   ]
  },
  {
   "cell_type": "markdown",
   "metadata": {},
   "source": [
    "## レシピ17.5 SonoffウェブスイッチをMQTTと組み合わせて使う"
   ]
  },
  {
   "cell_type": "markdown",
   "metadata": {},
   "source": [
    "## レシピ17.6 SonoffスイッチをNode-REDから使う"
   ]
  },
  {
   "cell_type": "markdown",
   "metadata": {},
   "source": [
    "## レシピ17.7 Node-REDダッシュボード"
   ]
  },
  {
   "cell_type": "markdown",
   "metadata": {},
   "source": [
    "```bash\n",
    "sudo systemctl stop nodered.service\n",
    "cd ~/.node-red/\n",
    "sudo apt-get install npm\n",
    "npm install node-red-dashboard\n",
    "sudo systemctl start nodered.service\n",
    "```"
   ]
  },
  {
   "cell_type": "markdown",
   "metadata": {},
   "source": [
    "## レシピ17.8 Node-REDでイベントをスケジュールする"
   ]
  },
  {
   "cell_type": "markdown",
   "metadata": {},
   "source": [
    "## レシピ17.9 Wemos D1 からMQTTメッセージを発行する"
   ]
  },
  {
   "cell_type": "markdown",
   "metadata": {},
   "source": [
    "## レシピ17.10 Wemos D1をNode-REDと組み合わせて使う"
   ]
  }
 ],
 "metadata": {
  "kernelspec": {
   "display_name": ".venv",
   "language": "python",
   "name": "python3"
  },
  "language_info": {
   "name": "python",
   "version": "3.10.11"
  }
 },
 "nbformat": 4,
 "nbformat_minor": 2
}
